{
 "cells": [
  {
   "cell_type": "markdown",
   "metadata": {},
   "source": [
    "## P3: OpenStreetMap Data Case Study. Dubai and Abu-Dhabi. Postcodes."
   ]
  },
  {
   "cell_type": "markdown",
   "metadata": {},
   "source": [
    "After the review of the project  https://review.udacity.com/#!/reviews/293667 I've created a special notebook \n",
    "\n",
    "for preprocessing the field \"address: postcode\" in the  .osm file. At first, we should find the range of values."
   ]
  },
  {
   "cell_type": "code",
   "execution_count": 203,
   "metadata": {
    "collapsed": false
   },
   "outputs": [],
   "source": [
    "# Import python libraries\n",
    "import re\n",
    "import numpy as np\n",
    "import scipy\n",
    "import json\n",
    "import codecs\n",
    "import matplotlib.pyplot as plt\n",
    "import xml.etree.cElementTree as ET\n",
    "%matplotlib inline\n"
   ]
  },
  {
   "cell_type": "code",
   "execution_count": 2,
   "metadata": {
    "collapsed": true
   },
   "outputs": [],
   "source": [
    "# Fuction for counting postcodes and getting values\n",
    "def zip_codes(filename):\n",
    "    count = 0\n",
    "    data = set()\n",
    "\n",
    "    for event, elem in ET.iterparse(filename, events=(\"start\",)):\n",
    "        if elem.tag == 'node' or elem.tag == 'way':\n",
    "            for tag in elem.iter('tag'):\n",
    "                if tag.attrib['k'] == \"addr:postcode\":\n",
    "                    count += 1\n",
    "                    data.add( tag.attrib['v'] )\n",
    "                                     \n",
    "    return count, data"
   ]
  },
  {
   "cell_type": "markdown",
   "metadata": {},
   "source": [
    "The next step is to set up the working directory and files for preprocessing:"
   ]
  },
  {
   "cell_type": "code",
   "execution_count": 3,
   "metadata": {
    "collapsed": true
   },
   "outputs": [],
   "source": [
    "FILEDIR = \"/Users/olgabelitskaya/large-repo/\""
   ]
  },
  {
   "cell_type": "code",
   "execution_count": 4,
   "metadata": {
    "collapsed": true
   },
   "outputs": [],
   "source": [
    "SAMPLE_FILE = FILEDIR + \"sample_dubai_abu-dhabi.osm\""
   ]
  },
  {
   "cell_type": "code",
   "execution_count": 5,
   "metadata": {
    "collapsed": true
   },
   "outputs": [],
   "source": [
    "FILE = FILEDIR + \"dubai_abu-dhabi.osm\""
   ]
  },
  {
   "cell_type": "code",
   "execution_count": 108,
   "metadata": {
    "collapsed": true
   },
   "outputs": [],
   "source": [
    "JSON_FILE = FILEDIR + \"dubai_abu-dhabi.osm.json\""
   ]
  },
  {
   "cell_type": "markdown",
   "metadata": {},
   "source": [
    "Applying the function 'zip_codes':"
   ]
  },
  {
   "cell_type": "code",
   "execution_count": 8,
   "metadata": {
    "collapsed": false
   },
   "outputs": [],
   "source": [
    "z = zip_codes(FILE)"
   ]
  },
  {
   "cell_type": "markdown",
   "metadata": {},
   "source": [
    "The number of the unique values:"
   ]
  },
  {
   "cell_type": "code",
   "execution_count": 33,
   "metadata": {
    "collapsed": false
   },
   "outputs": [
    {
     "data": {
      "text/plain": [
       "96"
      ]
     },
     "execution_count": 33,
     "metadata": {},
     "output_type": "execute_result"
    }
   ],
   "source": [
    "len(z[1])"
   ]
  },
  {
   "cell_type": "markdown",
   "metadata": {},
   "source": [
    "The number of notes with postcodes:"
   ]
  },
  {
   "cell_type": "code",
   "execution_count": 9,
   "metadata": {
    "collapsed": false
   },
   "outputs": [
    {
     "data": {
      "text/plain": [
       "116"
      ]
     },
     "execution_count": 9,
     "metadata": {},
     "output_type": "execute_result"
    }
   ],
   "source": [
    "z[0]"
   ]
  },
  {
   "cell_type": "markdown",
   "metadata": {},
   "source": [
    "Discovering problems in the data:"
   ]
  },
  {
   "cell_type": "code",
   "execution_count": 62,
   "metadata": {
    "collapsed": false
   },
   "outputs": [
    {
     "name": "stdout",
     "output_type": "stream",
     "text": [
      "All postcodes: ['0' '0000' '000000' '000001' '00962' '00971' '103711' '108100' '1111'\n",
      " '111695' '113431' '114692' '115443' '119417' '11999' '121641' '1234'\n",
      " '12345' '1243' '125939' '128358' '16095' '20268' '20661' '20767' '2157'\n",
      " '22436' '23117' '231992' '232144' '232574' '24857' '24976' '2504' '25494'\n",
      " '2574' '26268' '263076' '2666' '277' '28676' '28818' '32923' '34121'\n",
      " '34238' '3541' '38126' '38495' '38575' '392189' '41318' '41974' '42324'\n",
      " '42524' '44263' '444786' '44548' '4599' '46477' '473828' '47602' '47612'\n",
      " '500368' '502227' '52799' '5280 dubai' '53577' '549' '57566' '60884'\n",
      " '64649' '6834' '71444' '7770' '77947' '7819' '79506' '811' '81730' '8845'\n",
      " '8988' '9292' '97717' '9978' 'Muhaisnah 4' 'P O BOX 3766'\n",
      " 'P. O. Box 123234' 'P. O. Box 31166' 'P.O. Box 4605'\n",
      " 'P.O. Box 5618, Abu Dhabi, U.A.E' 'P.O. Box 6446' 'P.O. Box 9770'\n",
      " 'PO Box 114822' 'PO Box 118737' 'PO Box 43377' 'PO Box 6770']\n",
      "Expected: ['000001' '00962' '00971' '103711' '108100' '1111' '111695' '113431'\n",
      " '114692' '115443' '119417' '11999' '121641' '1234' '12345' '1243' '125939'\n",
      " '128358' '16095' '20268' '20661' '20767' '2157' '22436' '23117' '231992'\n",
      " '232144' '232574' '24857' '24976' '2504' '25494' '2574' '26268' '263076'\n",
      " '2666' '277' '28676' '28818' '32923' '34121' '34238' '3541' '38126'\n",
      " '38495' '38575' '392189' '41318' '41974' '42324' '42524' '44263' '444786'\n",
      " '44548' '4599' '46477' '473828' '47602' '47612' '500368' '502227' '52799'\n",
      " '53577' '549' '57566' '60884' '64649' '6834' '71444' '7770' '77947' '7819'\n",
      " '79506' '811' '81730' '8845' '8988' '9292' '97717' '9978']\n",
      "Unexpected: ['0' '0000' '000000' '5280 dubai' 'Muhaisnah 4' 'P O BOX 3766'\n",
      " 'P. O. Box 123234' 'P. O. Box 31166' 'P.O. Box 4605'\n",
      " 'P.O. Box 5618, Abu Dhabi, U.A.E' 'P.O. Box 6446' 'P.O. Box 9770'\n",
      " 'PO Box 114822' 'PO Box 118737' 'PO Box 43377' 'PO Box 6770']\n"
     ]
    }
   ],
   "source": [
    "znp = np.array(sorted(z[1]))\n",
    "print \"All postcodes:\", znp\n",
    "expected = np.append(znp[3:65], znp[66:84])\n",
    "print \"Expected:\", expected\n",
    "unexpected0 = np.append(znp[:3], znp[84:])\n",
    "unexpected = np.insert(unexpected0, 3, znp[65])\n",
    "print \"Unexpected:\", unexpected"
   ]
  },
  {
   "cell_type": "markdown",
   "metadata": {},
   "source": [
    "Mapping the right values:"
   ]
  },
  {
   "cell_type": "code",
   "execution_count": 169,
   "metadata": {
    "collapsed": false
   },
   "outputs": [
    {
     "data": {
      "text/plain": [
       "{'0': 'NA',\n",
       " '0000': 'NA',\n",
       " '000000': 'NA',\n",
       " '5280 dubai': '5280',\n",
       " 'Muhaisnah 4': 'NA',\n",
       " 'P O BOX 3766': '3766',\n",
       " 'P. O. Box 123234': '123234',\n",
       " 'P. O. Box 31166': '31166',\n",
       " 'P.O. Box 4605': '4605',\n",
       " 'P.O. Box 5618, Abu Dhabi, U.A.E': '5618',\n",
       " 'P.O. Box 6446': '6446',\n",
       " 'P.O. Box 9770': '9770',\n",
       " 'PO Box 114822': '114822',\n",
       " 'PO Box 118737': '118737',\n",
       " 'PO Box 43377': '43377',\n",
       " 'PO Box 6770': '6770'}"
      ]
     },
     "execution_count": 169,
     "metadata": {},
     "output_type": "execute_result"
    }
   ],
   "source": [
    "correction = {'0': 'NA', '0000': 'NA', '000000': 'NA', '5280 dubai': '5280', \n",
    "           'Muhaisnah 4': 'NA', 'P O BOX 3766': '3766', 'P. O. Box 123234': '123234', \n",
    "           'P. O. Box 31166': '31166', 'P.O. Box 4605': '4605', \n",
    "           'P.O. Box 5618, Abu Dhabi, U.A.E': '5618', 'P.O. Box 6446': '6446', \n",
    "           'P.O. Box 9770': '9770', 'PO Box 114822': '114822', 'PO Box 118737': '118737', \n",
    "           'PO Box 43377': '43377', 'PO Box 6770': '6770'}\n",
    "correction"
   ]
  },
  {
   "cell_type": "markdown",
   "metadata": {},
   "source": [
    "Creating the function for updating:"
   ]
  },
  {
   "cell_type": "code",
   "execution_count": 86,
   "metadata": {
    "collapsed": true
   },
   "outputs": [],
   "source": [
    "# Function for updating values:\n",
    "def update_name(name, correction):    \n",
    "    if name not in unexpected:\n",
    "        raise Exception(name)\n",
    "    else:\n",
    "        unexpect = name        \n",
    "    replace = correction[unexpect]    \n",
    "    if not replace:\n",
    "        raise Exception(unexpect)\n",
    "    updated_name = re.sub(unexpect, replace, name)\n",
    "    return updated_name"
   ]
  },
  {
   "cell_type": "code",
   "execution_count": 87,
   "metadata": {
    "collapsed": false
   },
   "outputs": [
    {
     "data": {
      "text/plain": [
       "'43377'"
      ]
     },
     "execution_count": 87,
     "metadata": {},
     "output_type": "execute_result"
    }
   ],
   "source": [
    "# Check the function\n",
    "update_name('PO Box 43377', correction)"
   ]
  },
  {
   "cell_type": "markdown",
   "metadata": {},
   "source": [
    "Let's create the list of dictionaries from the .json file:"
   ]
  },
  {
   "cell_type": "code",
   "execution_count": 109,
   "metadata": {
    "collapsed": false
   },
   "outputs": [],
   "source": [
    "DICT = []\n",
    "for line in open(JSON_FILE, 'r+'):\n",
    "   DICT.append(json.loads(line))"
   ]
  },
  {
   "cell_type": "code",
   "execution_count": 114,
   "metadata": {
    "collapsed": false
   },
   "outputs": [
    {
     "data": {
      "text/plain": [
       "2124505"
      ]
     },
     "execution_count": 114,
     "metadata": {},
     "output_type": "execute_result"
    }
   ],
   "source": [
    "len(DICT)"
   ]
  },
  {
   "cell_type": "code",
   "execution_count": 146,
   "metadata": {
    "collapsed": false
   },
   "outputs": [
    {
     "data": {
      "text/plain": [
       "{u'created': {u'changeset': u'20943519',\n",
       "  u'timestamp': u'2014-03-06T05:32:37Z',\n",
       "  u'uid': u'1770239',\n",
       "  u'user': u'Jennings Anderson',\n",
       "  u'version': u'5'},\n",
       " u'id': u'31475480',\n",
       " u'pos': [25.1527723, 55.1958039],\n",
       " u'source': u'Bing',\n",
       " u'type': u'node'}"
      ]
     },
     "execution_count": 146,
     "metadata": {},
     "output_type": "execute_result"
    }
   ],
   "source": [
    "DICT[1200]"
   ]
  },
  {
   "cell_type": "markdown",
   "metadata": {},
   "source": [
    "Now we can apply the function for updating and check the results."
   ]
  },
  {
   "cell_type": "code",
   "execution_count": 188,
   "metadata": {
    "collapsed": false
   },
   "outputs": [],
   "source": [
    "# Apply the function 'update_name'\n",
    "for i in range(len(DICT)):\n",
    "    if DICT[i].get('address') != None:\n",
    "        if DICT[i]['address'].get('postcode') != None:\n",
    "            value = DICT[i].get('address').get('postcode')\n",
    "            if value in unexpected:\n",
    "                DICT[i]['address']['postcode'] = update_name(value, correction)"
   ]
  },
  {
   "cell_type": "code",
   "execution_count": 190,
   "metadata": {
    "collapsed": false
   },
   "outputs": [
    {
     "name": "stdout",
     "output_type": "stream",
     "text": [
      "[u'115443', u'34121', u'811', u'811', u'42524', u'473828', u'473828', u'473828', u'473828', u'3766', u'549', u'6656', u'24976', u'6834', u'500368', u'2666', u'47602', u'232574', u'32923', u'9292', u'444786', u'125939', u'128358', u'119417', u'113431', u'77947', u'41318', u'38495', u'1243', u'28676', u'5618', u'121641', u'42324', u'20268', u'2157', u'5280', u'111695', u'53577', u'53577', u'22436', u'232144', u'81730', u'23117', u'44548', u'47612', u'24857', u'97717', u'60884', u'2574', u'57566', u'NA', u'114692', u'7770', u'20661', u'NA', u'392189', u'46477', u'38575', u'NA', u'4599', u'38126', u'231992', u'103711', u'103711', u'00971', u'7819', u'2504', u'26268', u'64649', u'00962', u'NA', u'NA', u'1234', u'4758', u'44263', u'263076', u'9978', u'71444', u'12345', u'79506', u'108100', u'8988', u'123234', u'125939', u'118737', u'28818', u'31166', u'6770', u'3541', u'114822', u'9770', u'1111', u'811', u'25494', u'41974', u'811', u'811', u'43377', u'16095', u'6834', u'000001', u'8845', u'502227', u'6446', u'52799', u'277', u'20268', u'4605', u'24857', u'20767', u'34238', u'22436', u'22436', u'23117', u'71444', u'24857', u'11999', u'11999']\n"
     ]
    }
   ],
   "source": [
    "# Check the correction of the postcodes\n",
    "postcodes = []\n",
    "for element in DICT:\n",
    "    address = element.get('address')\n",
    "    if address != None:\n",
    "        postcode = address.get('postcode')\n",
    "        if postcode != None:\n",
    "            postcodes.append(postcode)\n",
    "print postcodes"
   ]
  },
  {
   "cell_type": "markdown",
   "metadata": {},
   "source": [
    "Finally, let's create a new .json file, insert into the MongoDB collection and compare results."
   ]
  },
  {
   "cell_type": "code",
   "execution_count": 192,
   "metadata": {
    "collapsed": false
   },
   "outputs": [],
   "source": [
    "# Create new file\n",
    "with open(FILEDIR + \"dubai_abu-dhabi_postcode.osm.json\", 'w') as f:\n",
    "    for line in DICT:\n",
    "        json.dump(line, f)\n",
    "        f.write('\\n')"
   ]
  },
  {
   "cell_type": "code",
   "execution_count": 218,
   "metadata": {
    "collapsed": false
   },
   "outputs": [],
   "source": [
    "%load_ext rpy2.ipython"
   ]
  },
  {
   "cell_type": "code",
   "execution_count": 219,
   "metadata": {
    "collapsed": true
   },
   "outputs": [],
   "source": [
    "%R m <- mongo(\"openstreetmap_correct\", verbose = FALSE)"
   ]
  },
  {
   "cell_type": "code",
   "execution_count": 220,
   "metadata": {
    "collapsed": true
   },
   "outputs": [],
   "source": [
    "%R stream_in(file(\"/Users/olgabelitskaya/large-repo/dubai_abu-dhabi_postcode.osm.json\"), \n",
    "             handler = function(df){m$insert(df)})"
   ]
  },
  {
   "cell_type": "code",
   "execution_count": 225,
   "metadata": {
    "collapsed": true
   },
   "outputs": [],
   "source": [
    "# Open databases before correction and after\n",
    "from pymongo import MongoClient\n",
    "client = MongoClient('localhost:27017')\n",
    "database = client['test']\n",
    "dubai_abu_dhabi = database['openstreetmap']\n",
    "dubai_abu_dhabi_correct = database['openstreetmap_correct']"
   ]
  },
  {
   "cell_type": "code",
   "execution_count": 226,
   "metadata": {
    "collapsed": false
   },
   "outputs": [
    {
     "data": {
      "text/plain": [
       "[{u'_id': u'811', u'count': 5},\n",
       " {u'_id': u'473828', u'count': 4},\n",
       " {u'_id': u'22436', u'count': 3},\n",
       " {u'_id': u'24857', u'count': 3},\n",
       " {u'_id': u'11999', u'count': 2},\n",
       " {u'_id': u'125939', u'count': 2},\n",
       " {u'_id': u'000000', u'count': 2},\n",
       " {u'_id': u'71444', u'count': 2},\n",
       " {u'_id': u'23117', u'count': 2},\n",
       " {u'_id': u'20268', u'count': 2},\n",
       " {u'_id': u'53577', u'count': 2},\n",
       " {u'_id': u'103711', u'count': 2},\n",
       " {u'_id': u'6834', u'count': 2},\n",
       " {u'_id': u'20767', u'count': 1},\n",
       " {u'_id': u'277', u'count': 1},\n",
       " {u'_id': u'00971', u'count': 1},\n",
       " {u'_id': u'502227', u'count': 1},\n",
       " {u'_id': u'00962', u'count': 1},\n",
       " {u'_id': u'16095', u'count': 1},\n",
       " {u'_id': u'25494', u'count': 1},\n",
       " {u'_id': u'P O BOX 3766', u'count': 1},\n",
       " {u'_id': u'P.O. Box 9770', u'count': 1},\n",
       " {u'_id': u'PO Box 114822', u'count': 1},\n",
       " {u'_id': u'34238', u'count': 1},\n",
       " {u'_id': u'PO Box 6770', u'count': 1},\n",
       " {u'_id': u'119417', u'count': 1},\n",
       " {u'_id': u'231992', u'count': 1},\n",
       " {u'_id': u'108100', u'count': 1},\n",
       " {u'_id': u'8845', u'count': 1},\n",
       " {u'_id': u'4758', u'count': 1},\n",
       " {u'_id': u'115443', u'count': 1},\n",
       " {u'_id': u'64649', u'count': 1},\n",
       " {u'_id': u'44263', u'count': 1},\n",
       " {u'_id': u'46477', u'count': 1},\n",
       " {u'_id': u'26268', u'count': 1},\n",
       " {u'_id': u'28676', u'count': 1},\n",
       " {u'_id': u'2504', u'count': 1},\n",
       " {u'_id': u'7819', u'count': 1},\n",
       " {u'_id': u'38126', u'count': 1},\n",
       " {u'_id': u'44548', u'count': 1},\n",
       " {u'_id': u'9978', u'count': 1},\n",
       " {u'_id': u'4599', u'count': 1},\n",
       " {u'_id': u'1234', u'count': 1},\n",
       " {u'_id': u'20661', u'count': 1},\n",
       " {u'_id': u'2574', u'count': 1},\n",
       " {u'_id': u'3541', u'count': 1},\n",
       " {u'_id': u'47602', u'count': 1},\n",
       " {u'_id': u'81730', u'count': 1},\n",
       " {u'_id': u'57566', u'count': 1},\n",
       " {u'_id': u'121641', u'count': 1},\n",
       " {u'_id': u'111695', u'count': 1},\n",
       " {u'_id': u'0000', u'count': 1},\n",
       " {u'_id': u'5280 dubai', u'count': 1},\n",
       " {u'_id': u'47612', u'count': 1},\n",
       " {u'_id': u'32923', u'count': 1},\n",
       " {u'_id': u'2157', u'count': 1},\n",
       " {u'_id': u'12345', u'count': 1},\n",
       " {u'_id': u'60884', u'count': 1},\n",
       " {u'_id': u'0', u'count': 1},\n",
       " {u'_id': u'113431', u'count': 1},\n",
       " {u'_id': u'42324', u'count': 1},\n",
       " {u'_id': u'8988', u'count': 1},\n",
       " {u'_id': u'1111', u'count': 1},\n",
       " {u'_id': u'38495', u'count': 1},\n",
       " {u'_id': u'P.O. Box 4605', u'count': 1},\n",
       " {u'_id': u'41318', u'count': 1},\n",
       " {u'_id': u'263076', u'count': 1},\n",
       " {u'_id': u'PO Box 118737', u'count': 1},\n",
       " {u'_id': u'128358', u'count': 1},\n",
       " {u'_id': u'41974', u'count': 1},\n",
       " {u'_id': u'77947', u'count': 1},\n",
       " {u'_id': u'2666', u'count': 1},\n",
       " {u'_id': u'232574', u'count': 1},\n",
       " {u'_id': u'9292', u'count': 1},\n",
       " {u'_id': u'28818', u'count': 1},\n",
       " {u'_id': u'Muhaisnah 4', u'count': 1},\n",
       " {u'_id': u'24976', u'count': 1},\n",
       " {u'_id': u'P.O. Box 5618, Abu Dhabi, U.A.E', u'count': 1},\n",
       " {u'_id': u'38575', u'count': 1},\n",
       " {u'_id': u'232144', u'count': 1},\n",
       " {u'_id': u'000001', u'count': 1},\n",
       " {u'_id': u'97717', u'count': 1},\n",
       " {u'_id': u'PO Box 43377', u'count': 1},\n",
       " {u'_id': u'549', u'count': 1},\n",
       " {u'_id': u'P.O. Box 6446', u'count': 1},\n",
       " {u'_id': u'42524', u'count': 1},\n",
       " {u'_id': u'P. O. Box 123234', u'count': 1},\n",
       " {u'_id': u'500368', u'count': 1},\n",
       " {u'_id': u'1243', u'count': 1},\n",
       " {u'_id': u'P. O. Box 31166', u'count': 1},\n",
       " {u'_id': u'7770', u'count': 1},\n",
       " {u'_id': u'6656', u'count': 1},\n",
       " {u'_id': u'444786', u'count': 1},\n",
       " {u'_id': u'79506', u'count': 1},\n",
       " {u'_id': u'114692', u'count': 1},\n",
       " {u'_id': u'392189', u'count': 1},\n",
       " {u'_id': u'52799', u'count': 1},\n",
       " {u'_id': u'34121', u'count': 1}]"
      ]
     },
     "execution_count": 226,
     "metadata": {},
     "output_type": "execute_result"
    }
   ],
   "source": [
    "# Create a list of zipcodes without correction\n",
    "zipcodes = dubai_abu_dhabi.aggregate( [ \n",
    "    { \"$match\" : { \"address.postcode\" : { \"$exists\" : 1} } }, \n",
    "    { \"$group\" : { \"_id\" : \"$address.postcode\", \"count\" : { \"$sum\" : 1} } },  \n",
    "    { \"$sort\" : { \"count\" : -1}}\n",
    "] )\n",
    "list(zipcodes)"
   ]
  },
  {
   "cell_type": "code",
   "execution_count": 227,
   "metadata": {
    "collapsed": false
   },
   "outputs": [
    {
     "data": {
      "text/plain": [
       "[{u'_id': u'811', u'count': 5},\n",
       " {u'_id': u'473828', u'count': 4},\n",
       " {u'_id': u'NA', u'count': 3},\n",
       " {u'_id': u'22436', u'count': 3},\n",
       " {u'_id': u'24857', u'count': 3},\n",
       " {u'_id': u'71444', u'count': 2},\n",
       " {u'_id': u'11999', u'count': 2},\n",
       " {u'_id': u'23117', u'count': 2},\n",
       " {u'_id': u'20268', u'count': 2},\n",
       " {u'_id': u'53577', u'count': 2},\n",
       " {u'_id': u'103711', u'count': 2},\n",
       " {u'_id': u'125939', u'count': 2},\n",
       " {u'_id': u'6834', u'count': 2},\n",
       " {u'_id': u'34238', u'count': 1},\n",
       " {u'_id': u'20767', u'count': 1},\n",
       " {u'_id': u'277', u'count': 1},\n",
       " {u'_id': u'502227', u'count': 1},\n",
       " {u'_id': u'16095', u'count': 1},\n",
       " {u'_id': u'25494', u'count': 1},\n",
       " {u'_id': u'9770', u'count': 1},\n",
       " {u'_id': u'114822', u'count': 1},\n",
       " {u'_id': u'31166', u'count': 1},\n",
       " {u'_id': u'108100', u'count': 1},\n",
       " {u'_id': u'28818', u'count': 1},\n",
       " {u'_id': u'12345', u'count': 1},\n",
       " {u'_id': u'8845', u'count': 1},\n",
       " {u'_id': u'4758', u'count': 1},\n",
       " {u'_id': u'00962', u'count': 1},\n",
       " {u'_id': u'64649', u'count': 1},\n",
       " {u'_id': u'44263', u'count': 1},\n",
       " {u'_id': u'26268', u'count': 1},\n",
       " {u'_id': u'2504', u'count': 1},\n",
       " {u'_id': u'7819', u'count': 1},\n",
       " {u'_id': u'38126', u'count': 1},\n",
       " {u'_id': u'9978', u'count': 1},\n",
       " {u'_id': u'4599', u'count': 1},\n",
       " {u'_id': u'46477', u'count': 1},\n",
       " {u'_id': u'392189', u'count': 1},\n",
       " {u'_id': u'20661', u'count': 1},\n",
       " {u'_id': u'231992', u'count': 1},\n",
       " {u'_id': u'2574', u'count': 1},\n",
       " {u'_id': u'3541', u'count': 1},\n",
       " {u'_id': u'81730', u'count': 1},\n",
       " {u'_id': u'57566', u'count': 1},\n",
       " {u'_id': u'6446', u'count': 1},\n",
       " {u'_id': u'43377', u'count': 1},\n",
       " {u'_id': u'111695', u'count': 1},\n",
       " {u'_id': u'5280', u'count': 1},\n",
       " {u'_id': u'47612', u'count': 1},\n",
       " {u'_id': u'32923', u'count': 1},\n",
       " {u'_id': u'44548', u'count': 1},\n",
       " {u'_id': u'2157', u'count': 1},\n",
       " {u'_id': u'60884', u'count': 1},\n",
       " {u'_id': u'113431', u'count': 1},\n",
       " {u'_id': u'42324', u'count': 1},\n",
       " {u'_id': u'118737', u'count': 1},\n",
       " {u'_id': u'3766', u'count': 1},\n",
       " {u'_id': u'121641', u'count': 1},\n",
       " {u'_id': u'8988', u'count': 1},\n",
       " {u'_id': u'38495', u'count': 1},\n",
       " {u'_id': u'41318', u'count': 1},\n",
       " {u'_id': u'263076', u'count': 1},\n",
       " {u'_id': u'128358', u'count': 1},\n",
       " {u'_id': u'4605', u'count': 1},\n",
       " {u'_id': u'41974', u'count': 1},\n",
       " {u'_id': u'77947', u'count': 1},\n",
       " {u'_id': u'2666', u'count': 1},\n",
       " {u'_id': u'232574', u'count': 1},\n",
       " {u'_id': u'9292', u'count': 1},\n",
       " {u'_id': u'24976', u'count': 1},\n",
       " {u'_id': u'1111', u'count': 1},\n",
       " {u'_id': u'28676', u'count': 1},\n",
       " {u'_id': u'38575', u'count': 1},\n",
       " {u'_id': u'119417', u'count': 1},\n",
       " {u'_id': u'232144', u'count': 1},\n",
       " {u'_id': u'00971', u'count': 1},\n",
       " {u'_id': u'5618', u'count': 1},\n",
       " {u'_id': u'79506', u'count': 1},\n",
       " {u'_id': u'114692', u'count': 1},\n",
       " {u'_id': u'000001', u'count': 1},\n",
       " {u'_id': u'97717', u'count': 1},\n",
       " {u'_id': u'123234', u'count': 1},\n",
       " {u'_id': u'549', u'count': 1},\n",
       " {u'_id': u'42524', u'count': 1},\n",
       " {u'_id': u'47602', u'count': 1},\n",
       " {u'_id': u'1234', u'count': 1},\n",
       " {u'_id': u'500368', u'count': 1},\n",
       " {u'_id': u'1243', u'count': 1},\n",
       " {u'_id': u'7770', u'count': 1},\n",
       " {u'_id': u'6656', u'count': 1},\n",
       " {u'_id': u'444786', u'count': 1},\n",
       " {u'_id': u'115443', u'count': 1},\n",
       " {u'_id': u'52799', u'count': 1},\n",
       " {u'_id': u'6770', u'count': 1},\n",
       " {u'_id': u'34121', u'count': 1}]"
      ]
     },
     "execution_count": 227,
     "metadata": {},
     "output_type": "execute_result"
    }
   ],
   "source": [
    "# Create a list of zipcodes without correction\n",
    "correct_zipcodes = dubai_abu_dhabi_correct.aggregate( [ \n",
    "    { \"$match\" : { \"address.postcode\" : { \"$exists\" : 1} } }, \n",
    "    { \"$group\" : { \"_id\" : \"$address.postcode\", \"count\" : { \"$sum\" : 1} } },  \n",
    "    { \"$sort\" : { \"count\" : -1}}\n",
    "] )\n",
    "list(correct_zipcodes)"
   ]
  },
  {
   "cell_type": "markdown",
   "metadata": {},
   "source": [
    "Correction is successful."
   ]
  },
  {
   "cell_type": "markdown",
   "metadata": {},
   "source": [
    "The alternative way to update zip codes is to change the file for converting osm format into json:"
   ]
  },
  {
   "cell_type": "markdown",
   "metadata": {
    "collapsed": true
   },
   "source": [
    "- before https://github.com/OlgaBelitskaya/nd002_p3/blob/master/osm_json.py"
   ]
  },
  {
   "cell_type": "markdown",
   "metadata": {},
   "source": [
    "- after https://github.com/OlgaBelitskaya/nd002_p3/blob/master/osm_json_correct.py"
   ]
  }
 ],
 "metadata": {
  "anaconda-cloud": {},
  "hide_input": false,
  "kernelspec": {
   "display_name": "Python [conda root]",
   "language": "python",
   "name": "conda-root-py"
  },
  "language_info": {
   "codemirror_mode": {
    "name": "ipython",
    "version": 2
   },
   "file_extension": ".py",
   "mimetype": "text/x-python",
   "name": "python",
   "nbconvert_exporter": "python",
   "pygments_lexer": "ipython2",
   "version": "2.7.12"
  },
  "latex_envs": {
   "bibliofile": "biblio.bib",
   "cite_by": "apalike",
   "current_citInitial": 1,
   "eqLabelWithNumbers": true,
   "eqNumInitial": 0
  }
 },
 "nbformat": 4,
 "nbformat_minor": 1
}
